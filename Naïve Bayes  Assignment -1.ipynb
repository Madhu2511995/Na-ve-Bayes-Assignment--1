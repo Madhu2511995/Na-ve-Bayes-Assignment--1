{
 "cells": [
  {
   "cell_type": "markdown",
   "id": "68d9a0af-52af-4d0b-9e69-1994d45f8a9e",
   "metadata": {},
   "source": [
    "### Q1. What is Bayes' theorem?\n",
    "\n",
    "### Q2. What is the formula for Bayes' theorem?\n",
    "\n",
    "### Q3. How is Bayes' theorem used in practice?\n",
    "\n",
    "### Q4. What is the relationship between Bayes' theorem and conditional probability?\n",
    "\n",
    "### Q5. How do you choose which type of Naive Bayes classifier to use for any given problem?\n",
    "\n",
    "### Q6. Assignment:\n",
    "### You have a dataset with two features, X1 and X2, and two possible classes, A and B. You want to use Naive Bayes to classify a new instance with features X1 = 3 and X2 = 4. The following table shows the frequency of each feature value for each class:\n",
    "\n",
    "### Class X1=1 X1=2 X1=3 X2=1 X2=2 X2=3 X2=4\n",
    "###        A   3 3 4 4 3 3 3\n",
    "###        B   2 2 1 2 2 2 3\n",
    "### Assuming equal prior probabilities for each class, which class would Naive Bayes predict the new instance to belong to?"
   ]
  },
  {
   "cell_type": "markdown",
   "id": "125bf31e-9dec-434d-acbf-f91a484b5092",
   "metadata": {},
   "source": [
    "## Answers"
   ]
  },
  {
   "cell_type": "markdown",
   "id": "5f20a26d-e976-4df4-9fd0-0f77e74c332d",
   "metadata": {},
   "source": [
    "### Q1. What is Bayes' theorem?\n",
    "\n"
   ]
  },
  {
   "cell_type": "markdown",
   "id": "3fea05d9-ec2f-4b35-8f16-4f16ef456c0f",
   "metadata": {},
   "source": [
    "Bayes' theorem, named after the 18th-century mathematician and theologian Thomas Bayes, is a fundamental principle in probability theory and statistics. It provides a way to update our beliefs or probabilities about an event based on new evidence or information. Bayes' theorem is especially useful in situations where we want to make inferences about unknown probabilities or parameters."
   ]
  },
  {
   "cell_type": "markdown",
   "id": "f6f7ad53-3b08-4bdf-960b-635a000e082e",
   "metadata": {},
   "source": [
    "### Formula : P(A∣B)=P(B∣A)⋅P(A)/P(B)\n",
    "\n",
    "- P(A∣B) is the conditional probability of event A occurring given that event B has occurred.\n",
    "\n",
    "\n",
    "- P(B∣A) is the conditional probability of event B occurring given that event A has occurred.\n",
    "\n",
    "- P(A) is the prior probability of event A, which represents our initial belief or probability of A before considering any new evidence\n",
    "\n",
    "- P(B) is the marginal probability of event B, which represents the overall probability of B occurring."
   ]
  },
  {
   "cell_type": "markdown",
   "id": "aeb88caf-395d-4cdd-882e-536066eecf23",
   "metadata": {},
   "source": [
    "### Q2. What is the formula for Bayes' theorem?\n",
    "\n"
   ]
  },
  {
   "cell_type": "markdown",
   "id": "ca2c8f94-711e-4914-95ac-4599e0698acf",
   "metadata": {},
   "source": [
    "### Formula : P(A∣B)=P(B∣A)⋅P(A)/P(B)\n",
    "\n",
    "- P(A∣B) is the conditional probability of event A occurring given that event B has occurred.\n",
    "\n",
    "\n",
    "- P(B∣A) is the conditional probability of event B occurring given that event A has occurred.\n",
    "\n",
    "- P(A) is the prior probability of event A, which represents our initial belief or probability of A before considering any new evidence\n",
    "\n",
    "- P(B) is the marginal probability of event B, which represents the overall probability of B occurring."
   ]
  },
  {
   "cell_type": "markdown",
   "id": "f416c279-d54f-46b3-acec-3397212fb3a4",
   "metadata": {},
   "source": [
    "### Q3. How is Bayes' theorem used in practice?\n",
    "\n"
   ]
  },
  {
   "cell_type": "markdown",
   "id": "4cecdb06-0020-4aca-b3e0-ca320e443864",
   "metadata": {},
   "source": [
    "1. Medical Diagnosis: Bayes' theorem is often used in medical diagnosis to estimate the probability of a particular disease or condition given the results of diagnostic tests and the patient's symptoms. It helps doctors make more informed decisions about patient care.\n",
    "\n",
    "2. Spam Email Filtering: Email providers use Bayes' theorem in spam filters to classify incoming emails as either spam or legitimate based on the probability of certain words or patterns occurring in the email content.\n",
    "\n",
    "3. Machine Learning and Natural Language Processing: In machine learning, Bayes' theorem is used in algorithms like Naive Bayes for text classification, sentiment analysis, and spam detection. It's a foundational concept in probabilistic graphical models.\n",
    "\n",
    "4. Financial Modeling: Bayes' theorem is applied in finance for risk assessment, portfolio management, and asset pricing. It helps investors make decisions based on updated information and market conditions.\n",
    "\n",
    "5. Fault Diagnosis in Engineering: In engineering, Bayes' theorem can be used to diagnose faults in complex systems. It combines sensor data with prior knowledge about the system's behavior to identify and address issues."
   ]
  },
  {
   "cell_type": "markdown",
   "id": "03320456-cf95-43ca-aa0d-f49719a0d6b4",
   "metadata": {},
   "source": [
    "### Q4. What is the relationship between Bayes' theorem and conditional probability?\n",
    "\n"
   ]
  },
  {
   "cell_type": "markdown",
   "id": "a67bdbbd-3367-480a-86a9-47a084106143",
   "metadata": {},
   "source": [
    "Bayes' theorem and conditional probability are closely related concepts, and Bayes' theorem can be seen as a way to calculate conditional probabilities in certain situations. \n",
    "\n",
    "#### Conditional Probability:\n",
    "Conditional probability represents the probability of an event occurring given that another event has already occurred. It is denoted as P(A∣B), \n",
    "\n",
    "where:\n",
    "\n",
    "- P(A∣B) is the conditional probability of event A occurring given that event B has occurred.\n",
    "\n",
    "- P(A) is the probability of event A occurring.\n",
    "\n",
    "- P(B) is the probability of event B occurring.\n",
    "\n",
    "In other words, conditional probability focuses on how the probability of event A is affected by the knowledge or occurrence of event B. It is calculated using the \n",
    "\n",
    "#### formula: P(A∣B)= P(A and B)/P(B)\n",
    "\n",
    "\n",
    "#### Bayes' Theorem:\n",
    "Bayes' theorem, as mentioned earlier, is a fundamental principle in probability theory that provides a way to update our beliefs or probabilities based on new evidence. It relates the conditional probability of event A given event B to the conditional probability of event B given event A. Bayes' theorem is stated as:\n",
    "\n",
    "##### P(A∣B)= P(B∣A)⋅P(A)/P(B)\n",
    "\n"
   ]
  },
  {
   "cell_type": "markdown",
   "id": "03fbb9f5-1b63-4818-bfdd-a74fef1f7c2c",
   "metadata": {},
   "source": [
    "- P(A∣B) is the conditional probability of event A occurring given that event B has occurred.\n",
    "\n",
    "- P(B∣A) is the conditional probability of event B occurring given that event A has occurred.\n",
    "\n",
    "- P(A) is the prior probability of event A, representing our initial belief or probability of A before considering any new evidence.\n",
    "\n",
    "- P(B) is the marginal probability of event B, representing the overall probability of B occurring."
   ]
  },
  {
   "cell_type": "markdown",
   "id": "1cc84a70-7f1f-451a-8b5a-488ddc3628f0",
   "metadata": {},
   "source": [
    "### Q5. How do you choose which type of Naive Bayes classifier to use for any given problem?\n",
    "\n"
   ]
  },
  {
   "cell_type": "markdown",
   "id": "e87d3398-e453-4fe7-a008-f445214cf413",
   "metadata": {},
   "source": [
    "Choosing the appropriate type of Naive Bayes classifier for a given problem depends on the nature of the data and the assumptions that are reasonable for your specific application. There are three main types of Naive Bayes classifiers:\n",
    "\n",
    "#### Gaussian Naive Bayes (GNB):\n",
    "\n",
    "##### Data Type:\n",
    "GNB is suitable for continuous data, assuming that the features follow a Gaussian (normal) distribution.\n",
    "##### Assumption:\n",
    "It assumes that the features within each class are normally distributed.\n",
    "##### Use Cases: \n",
    "GNB is commonly used for tasks like email spam detection or sentiment analysis, where features like word frequencies or numerical values follow a normal distribution.\n",
    "\n",
    "#### Multinomial Naive Bayes (MNB):\n",
    "\n",
    "##### Data Type: \n",
    "MNB is well-suited for discrete data, especially when dealing with text data or categorical features.\n",
    "\n",
    "##### Assumption: \n",
    "It assumes that features represent counts or frequencies of discrete values.\n",
    "\n",
    "##### Use Cases: \n",
    "MNB is frequently used for text classification tasks like document categorization, spam email detection, and sentiment analysis, where the data is often represented as word frequencies or term presence/absence.\n",
    "\n",
    "#### Bernoulli Naive Bayes (BNB):\n",
    "\n",
    "##### Data Type: \n",
    "BNB is suitable for binary data, where features are binary (0 or 1) to represent the absence or presence of a particular attribute.\n",
    "\n",
    "##### Assumption: \n",
    "It assumes that features are binary variables.\n",
    "\n",
    "##### Use Cases: \n",
    "BNB is commonly used for text classification tasks involving binary features, such as text document classification based on the presence or absence of specific keywords."
   ]
  },
  {
   "cell_type": "markdown",
   "id": "b4bf9a3a-4ccc-4902-af12-5df832dc765c",
   "metadata": {},
   "source": [
    "### Q6. Assignment:\n",
    "### You have a dataset with two features, X1 and X2, and two possible classes, A and B. You want to use Naive Bayes to classify a new instance with features X1 = 3 and X2 = 4. The following table shows the frequency of each feature value for each class:\n",
    "\n",
    "### Class X1=1 X1=2 X1=3 X2=1 X2=2 X2=3 X2=4\n",
    "###        A   3 3 4 4 3 3 3\n",
    "###        B   2 2 1 2 2 2 3\n",
    "### Assuming equal prior probabilities for each class, which class would Naive Bayes predict the new instance to belong to?"
   ]
  },
  {
   "cell_type": "markdown",
   "id": "f6dd7875-e1f8-4daa-b762-e03cd7f4c991",
   "metadata": {},
   "source": [
    "The prior probabilities are assumed to be equal for each class, so \n",
    "P(A)=P(B)=0.5.\n",
    "\n",
    "#### For Class A:\n",
    "- P(X1=3∣A)= 4/10 (since there are 4 instances where X1=3 in Class A out of a total of 10 instances in Class A).\n",
    "\n",
    "- P(X2=4∣A)= 3/10 (since there are 3 instances where X2=4 in Class A out of a total of 10 instances in Class A).\n",
    "\n",
    "#### For Class B:\n",
    "\n",
    "- P(X1=3∣A)= 1/7 (since there is 1 instance where X1=3 in Class B out of a total of 7 instances in Class B).\n",
    "\n",
    "\n",
    "- P(X2=4∣A)= 3/7 (since there are 3 instances where X2=4 in Class B out of a total of 7 instances in Class B)."
   ]
  },
  {
   "cell_type": "markdown",
   "id": "02c1638c-354f-465c-903a-32ef2a94d7e7",
   "metadata": {},
   "source": [
    "For Class A:\n",
    "P(A∣X1=3,X2=4)∝ P(X1=3∣A)⋅P(X2=4∣A)⋅P(A)=4/10*3/10*0.5\n",
    "P(A∣X1=3,X2=4)=0.06\n",
    "\n",
    "For Class B:\n",
    "P(B∣X1=3,X2=4)∝P(X1=3∣B)⋅P(X2=4∣B)⋅P(B)=1/7*3/7*.5\n",
    "P(B∣X1=3,X2=4)=0.022\n",
    "\n",
    "so 0.06>0.022 features X1=3 and X2=4 belongs to Class A.\n"
   ]
  }
 ],
 "metadata": {
  "kernelspec": {
   "display_name": "Python 3 (ipykernel)",
   "language": "python",
   "name": "python3"
  },
  "language_info": {
   "codemirror_mode": {
    "name": "ipython",
    "version": 3
   },
   "file_extension": ".py",
   "mimetype": "text/x-python",
   "name": "python",
   "nbconvert_exporter": "python",
   "pygments_lexer": "ipython3",
   "version": "3.10.8"
  }
 },
 "nbformat": 4,
 "nbformat_minor": 5
}
